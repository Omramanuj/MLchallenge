{
 "cells": [
  {
   "cell_type": "code",
   "execution_count": 21,
   "metadata": {},
   "outputs": [
    {
     "name": "stderr",
     "output_type": "stream",
     "text": [
      "Processing batch 8: 100%|██████████| 32/32 [00:45<00:00,  1.43s/it]\n"
     ]
    },
    {
     "name": "stdout",
     "output_type": "stream",
     "text": [
      "Batch 8:\n",
      "  Shape: (32, 224, 224, 3)\n",
      "  Number of images: 32\n",
      "  Min value: 0.0000\n",
      "  Max value: 1.0000\n",
      "  Mean value: 0.7710\n",
      "  Standard deviation: 0.2814\n",
      "\n"
     ]
    },
    {
     "name": "stderr",
     "output_type": "stream",
     "text": [
      "Processing batch 9:  34%|███▍      | 11/32 [00:14<00:19,  1.09it/s]"
     ]
    }
   ],
   "source": [
    "import pandas as pd\n",
    "import requests\n",
    "from io import BytesIO\n",
    "from PIL import Image\n",
    "import numpy as np\n",
    "from tqdm import tqdm\n",
    "\n",
    "# Load the Dataset\n",
    "data_path = 'train.csv'\n",
    "data = pd.read_csv(data_path)\n",
    "\n",
    "print(\"Dataset Info:\")\n",
    "print(data.info())\n",
    "print(data.head())\n",
    "\n",
    "def process_image(image_link):\n",
    "    try:\n",
    "        response = requests.get(image_link, stream=True, timeout=10)\n",
    "        if response.status_code == 200:\n",
    "            img = Image.open(BytesIO(response.content))\n",
    "            img = img.resize((224, 224))  # Resize to a fixed size\n",
    "            img_array = np.array(img) / 255.0  # Normalize pixel values to [0, 1]\n",
    "            return img_array\n",
    "        else:\n",
    "            print(f\"Failed to download {image_link}: HTTP status {response.status_code}\")\n",
    "            return None\n",
    "    except Exception as e:\n",
    "        print(f\"Error processing {image_link}: {e}\")\n",
    "        return None\n",
    "\n",
    "def process_images_in_batches(image_links, batch_size=32):\n",
    "    for i in range(0, len(image_links), batch_size):\n",
    "        batch_links = image_links[i:i+batch_size]\n",
    "        batch_images = []\n",
    "        for link in tqdm(batch_links, desc=f\"Processing batch {i//batch_size + 1}\"):\n",
    "            img_array = process_image(link)\n",
    "            if img_array is not None:\n",
    "                batch_images.append(img_array)\n",
    "        yield np.array(batch_images)\n",
    "\n",
    "# Process all images in batches\n",
    "image_links = data['image_link'].values\n",
    "batch_generator = process_images_in_batches(image_links)\n",
    "\n",
    "total_images = 0\n",
    "total_batches = 0\n",
    "\n",
    "for batch_num, batch in enumerate(batch_generator, 1):\n",
    "    print(f\"Batch {batch_num}:\")\n",
    "    print(f\"  Shape: {batch.shape}\")\n",
    "    print(f\"  Number of images: {batch.shape[0]}\")\n",
    "    print(f\"  Min value: {batch.min():.4f}\")\n",
    "    print(f\"  Max value: {batch.max():.4f}\")\n",
    "    print(f\"  Mean value: {batch.mean():.4f}\")\n",
    "    print(f\"  Standard deviation: {batch.std():.4f}\")\n",
    "    print()\n",
    "    \n",
    "    total_images += batch.shape[0]\n",
    "    total_batches += 1\n",
    "\n",
    "print(\"Processing complete.\")\n",
    "print(f\"Total number of batches processed: {total_batches}\")\n",
    "print(f\"Total number of images processed: {total_images}\")\n",
    "print(f\"Expected number of images: {len(image_links)}\")\n",
    "if total_images != len(image_links):\n",
    "    print(f\"Warning: {len(image_links) - total_images} images were not processed successfully.\")"
   ]
  }
 ],
 "metadata": {
  "kernelspec": {
   "display_name": "Python 3",
   "language": "python",
   "name": "python3"
  },
  "language_info": {
   "codemirror_mode": {
    "name": "ipython",
    "version": 3
   },
   "file_extension": ".py",
   "mimetype": "text/x-python",
   "name": "python",
   "nbconvert_exporter": "python",
   "pygments_lexer": "ipython3",
   "version": "3.10.11"
  }
 },
 "nbformat": 4,
 "nbformat_minor": 2
}
